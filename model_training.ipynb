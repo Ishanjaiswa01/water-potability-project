{
 "cells": [
  {
   "cell_type": "code",
   "execution_count": 1,
   "id": "48c70b47",
   "metadata": {},
   "outputs": [
    {
     "name": "stderr",
     "output_type": "stream",
     "text": [
      "C:\\Users\\HP\\AppData\\Local\\Temp\\ipykernel_6636\\1882000570.py:15: FutureWarning: A value is trying to be set on a copy of a DataFrame or Series through chained assignment using an inplace method.\n",
      "The behavior will change in pandas 3.0. This inplace method will never work because the intermediate object on which we are setting values always behaves as a copy.\n",
      "\n",
      "For example, when doing 'df[col].method(value, inplace=True)', try using 'df.method({col: value}, inplace=True)' or df[col] = df[col].method(value) instead, to perform the operation inplace on the original object.\n",
      "\n",
      "\n",
      "  df['ph'].fillna(df['ph'].mean(), inplace=True)\n",
      "C:\\Users\\HP\\AppData\\Local\\Temp\\ipykernel_6636\\1882000570.py:16: FutureWarning: A value is trying to be set on a copy of a DataFrame or Series through chained assignment using an inplace method.\n",
      "The behavior will change in pandas 3.0. This inplace method will never work because the intermediate object on which we are setting values always behaves as a copy.\n",
      "\n",
      "For example, when doing 'df[col].method(value, inplace=True)', try using 'df.method({col: value}, inplace=True)' or df[col] = df[col].method(value) instead, to perform the operation inplace on the original object.\n",
      "\n",
      "\n",
      "  df['Sulfate'].fillna(df['Sulfate'].mean(), inplace=True)\n",
      "C:\\Users\\HP\\AppData\\Local\\Temp\\ipykernel_6636\\1882000570.py:17: FutureWarning: A value is trying to be set on a copy of a DataFrame or Series through chained assignment using an inplace method.\n",
      "The behavior will change in pandas 3.0. This inplace method will never work because the intermediate object on which we are setting values always behaves as a copy.\n",
      "\n",
      "For example, when doing 'df[col].method(value, inplace=True)', try using 'df.method({col: value}, inplace=True)' or df[col] = df[col].method(value) instead, to perform the operation inplace on the original object.\n",
      "\n",
      "\n",
      "  df['Trihalomethanes'].fillna(df['Trihalomethanes'].mean(), inplace=True)\n"
     ]
    },
    {
     "name": "stdout",
     "output_type": "stream",
     "text": [
      "Model and scaler have been saved successfully!\n",
      "The files 'water_potability_model.joblib' and 'scaler.joblib' are now in your project folder.\n"
     ]
    }
   ],
   "source": [
    "# ## 1. Import Necessary Libraries\n",
    "import pandas as pd\n",
    "from sklearn.model_selection import train_test_split\n",
    "from sklearn.preprocessing import StandardScaler\n",
    "from sklearn.ensemble import RandomForestClassifier\n",
    "from sklearn.metrics import accuracy_score, classification_report\n",
    "import joblib\n",
    "\n",
    "# ## 2. Load and Preprocess the Data\n",
    "# Load the dataset from the CSV file\n",
    "df = pd.read_csv('water_potability.csv')\n",
    "\n",
    "# Handle missing values by filling them with the mean of their respective columns\n",
    "# This is a common strategy to ensure the model has complete data to train on.\n",
    "df['ph'].fillna(df['ph'].mean(), inplace=True)\n",
    "df['Sulfate'].fillna(df['Sulfate'].mean(), inplace=True)\n",
    "df['Trihalomethanes'].fillna(df['Trihalomethanes'].mean(), inplace=True)\n",
    "\n",
    "# ## 3. Prepare Data for Modeling\n",
    "# Define the features (X) and the target variable (y)\n",
    "X = df.drop('Potability', axis=1)\n",
    "y = df['Potability']\n",
    "\n",
    "# Scale the features. Scaling is crucial for many ML algorithms.\n",
    "# It standardizes the data to have a mean of 0 and a standard deviation of 1.\n",
    "scaler = StandardScaler()\n",
    "X_scaled = scaler.fit_transform(X)\n",
    "\n",
    "# ## 4. Train the Random Forest Model\n",
    "# We'll train the model on the entire dataset to capture as much information as possible.\n",
    "model = RandomForestClassifier(n_estimators=100, random_state=42)\n",
    "model.fit(X_scaled, y)\n",
    "\n",
    "# ## 5. Save the Model and the Scaler\n",
    "# We save the trained model and the scaler to disk.\n",
    "# Our Streamlit app will load these files to make predictions.\n",
    "joblib.dump(model, 'water_potability_model.joblib')\n",
    "joblib.dump(scaler, 'scaler.joblib')\n",
    "\n",
    "print(\"Model and scaler have been saved successfully!\")\n",
    "print(\"The files 'water_potability_model.joblib' and 'scaler.joblib' are now in your project folder.\")"
   ]
  }
 ],
 "metadata": {
  "kernelspec": {
   "display_name": "Python 3",
   "language": "python",
   "name": "python3"
  },
  "language_info": {
   "name": "python",
   "version": "3.13.3"
  }
 },
 "nbformat": 4,
 "nbformat_minor": 5
}
